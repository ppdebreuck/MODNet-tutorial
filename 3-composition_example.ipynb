{
 "cells": [
  {
   "cell_type": "markdown",
   "metadata": {},
   "source": [
    "# Prediction of experimental band gap\n",
    "\n",
    "This notebooks applies MODNet on the matbench experimental band gap data. It is a good example on how MODNet can be used for a composition only task, i.e. when only the stoichiometry (e.g. SiO2) is known with no structural information."
   ]
  },
  {
   "cell_type": "markdown",
   "metadata": {},
   "source": [
    "## Dependencies"
   ]
  },
  {
   "cell_type": "code",
   "execution_count": 1,
   "metadata": {},
   "outputs": [],
   "source": [
    "import numpy as np\n",
    "from matminer.datasets import load_dataset\n",
    "from modnet.models import MODNetModel\n",
    "from modnet.preprocessing import MODData\n",
    "import matplotlib.pyplot as plt \n",
    "from pymatgen.core import Composition"
   ]
  },
  {
   "cell_type": "markdown",
   "metadata": {},
   "source": [
    "# 1. Import dataset:\n",
    "The matbench_expt_gap dataset contains measured band gaps for 4604 compositions of inorganic semiconductors from Zhuo et al., JPCL."
   ]
  },
  {
   "cell_type": "code",
   "execution_count": 2,
   "metadata": {},
   "outputs": [
    {
     "data": {
      "text/html": [
       "<div>\n",
       "<style scoped>\n",
       "    .dataframe tbody tr th:only-of-type {\n",
       "        vertical-align: middle;\n",
       "    }\n",
       "\n",
       "    .dataframe tbody tr th {\n",
       "        vertical-align: top;\n",
       "    }\n",
       "\n",
       "    .dataframe thead th {\n",
       "        text-align: right;\n",
       "    }\n",
       "</style>\n",
       "<table border=\"1\" class=\"dataframe\">\n",
       "  <thead>\n",
       "    <tr style=\"text-align: right;\">\n",
       "      <th></th>\n",
       "      <th>composition</th>\n",
       "      <th>gap expt</th>\n",
       "    </tr>\n",
       "  </thead>\n",
       "  <tbody>\n",
       "    <tr>\n",
       "      <th>0</th>\n",
       "      <td>(Ag, Au, S)</td>\n",
       "      <td>0.00</td>\n",
       "    </tr>\n",
       "    <tr>\n",
       "      <th>1</th>\n",
       "      <td>(Ag, W, Br)</td>\n",
       "      <td>0.00</td>\n",
       "    </tr>\n",
       "    <tr>\n",
       "      <th>2</th>\n",
       "      <td>(Ag, Ge, Pb, S)</td>\n",
       "      <td>1.83</td>\n",
       "    </tr>\n",
       "    <tr>\n",
       "      <th>3</th>\n",
       "      <td>(Ag, Ge, Pb, Se)</td>\n",
       "      <td>1.51</td>\n",
       "    </tr>\n",
       "    <tr>\n",
       "      <th>4</th>\n",
       "      <td>(Ag, B, Br)</td>\n",
       "      <td>0.00</td>\n",
       "    </tr>\n",
       "  </tbody>\n",
       "</table>\n",
       "</div>"
      ],
      "text/plain": [
       "        composition  gap expt\n",
       "0       (Ag, Au, S)      0.00\n",
       "1       (Ag, W, Br)      0.00\n",
       "2   (Ag, Ge, Pb, S)      1.83\n",
       "3  (Ag, Ge, Pb, Se)      1.51\n",
       "4       (Ag, B, Br)      0.00"
      ]
     },
     "execution_count": 2,
     "metadata": {},
     "output_type": "execute_result"
    }
   ],
   "source": [
    "from matminer.datasets import load_dataset\n",
    "\n",
    "df = load_dataset(\"matbench_expt_gap\")\n",
    "df[\"composition\"] = df[\"composition\"].map(Composition) # maps composition to a pymatgen composition object\n",
    "df.head()"
   ]
  },
  {
   "cell_type": "markdown",
   "metadata": {},
   "source": [
    "Let us have a look at the band gap distribution:"
   ]
  },
  {
   "cell_type": "code",
   "execution_count": 3,
   "metadata": {},
   "outputs": [
    {
     "data": {
      "text/html": [
       "<div>\n",
       "<style scoped>\n",
       "    .dataframe tbody tr th:only-of-type {\n",
       "        vertical-align: middle;\n",
       "    }\n",
       "\n",
       "    .dataframe tbody tr th {\n",
       "        vertical-align: top;\n",
       "    }\n",
       "\n",
       "    .dataframe thead th {\n",
       "        text-align: right;\n",
       "    }\n",
       "</style>\n",
       "<table border=\"1\" class=\"dataframe\">\n",
       "  <thead>\n",
       "    <tr style=\"text-align: right;\">\n",
       "      <th></th>\n",
       "      <th>gap expt</th>\n",
       "    </tr>\n",
       "  </thead>\n",
       "  <tbody>\n",
       "    <tr>\n",
       "      <th>count</th>\n",
       "      <td>4604.000000</td>\n",
       "    </tr>\n",
       "    <tr>\n",
       "      <th>mean</th>\n",
       "      <td>0.975951</td>\n",
       "    </tr>\n",
       "    <tr>\n",
       "      <th>std</th>\n",
       "      <td>1.445034</td>\n",
       "    </tr>\n",
       "    <tr>\n",
       "      <th>min</th>\n",
       "      <td>0.000000</td>\n",
       "    </tr>\n",
       "    <tr>\n",
       "      <th>25%</th>\n",
       "      <td>0.000000</td>\n",
       "    </tr>\n",
       "    <tr>\n",
       "      <th>50%</th>\n",
       "      <td>0.000000</td>\n",
       "    </tr>\n",
       "    <tr>\n",
       "      <th>75%</th>\n",
       "      <td>1.812500</td>\n",
       "    </tr>\n",
       "    <tr>\n",
       "      <th>max</th>\n",
       "      <td>11.700000</td>\n",
       "    </tr>\n",
       "  </tbody>\n",
       "</table>\n",
       "</div>"
      ],
      "text/plain": [
       "          gap expt\n",
       "count  4604.000000\n",
       "mean      0.975951\n",
       "std       1.445034\n",
       "min       0.000000\n",
       "25%       0.000000\n",
       "50%       0.000000\n",
       "75%       1.812500\n",
       "max      11.700000"
      ]
     },
     "execution_count": 3,
     "metadata": {},
     "output_type": "execute_result"
    }
   ],
   "source": [
    "df.describe()"
   ]
  },
  {
   "cell_type": "code",
   "execution_count": 4,
   "metadata": {},
   "outputs": [
    {
     "data": {
      "text/plain": [
       "<matplotlib.legend.Legend at 0x7f9c7b4f52b0>"
      ]
     },
     "execution_count": 4,
     "metadata": {},
     "output_type": "execute_result"
    },
    {
     "data": {
      "image/png": "[encoded data removed]",
      "text/plain": [
       "<Figure size 432x288 with 1 Axes>"
      ]
     },
     "metadata": {},
     "output_type": "display_data"
    }
   ],
   "source": [
    "fig, ax = plt.subplots(facecolor=\"w\")\n",
    "ax.hist(df.where(df[\"gap expt\"] == 0)[\"gap expt\"], bins=1, density=False, label=\"Zero band gap\")\n",
    "ax.hist(df.where(df[\"gap expt\"] > 0)[\"gap expt\"], bins=11, density=False, label=\"Non-zero band gap\")\n",
    "ax.set_ylabel(\"Frequency\")\n",
    "ax.set_xlabel(\"Band gap (eV)\")\n",
    "ax.legend()"
   ]
  },
  {
   "cell_type": "markdown",
   "metadata": {},
   "source": [
    "## 2. Training \n",
    "## a) create MODData\n",
    "We create a MODData based on the above dataframe."
   ]
  },
  {
   "cell_type": "code",
   "execution_count": 5,
   "metadata": {},
   "outputs": [
    {
     "name": "stdout",
     "output_type": "stream",
     "text": [
      "2023-01-24 14:44:22,918 - modnet - INFO - Loaded CompositionOnlyMatminer2023Featurizer featurizer.\n"
     ]
    }
   ],
   "source": [
    "# This instantiates the MODData\n",
    "data = MODData(\n",
    "    materials=df[\"composition\"], # you can provide composition objects to MODData\n",
    "    targets=df[\"gap expt\"], \n",
    "    target_names=[\"gap_expt_eV\"]\n",
    ")"
   ]
  },
  {
   "cell_type": "code",
   "execution_count": 6,
   "metadata": {},
   "outputs": [
    {
     "name": "stdout",
     "output_type": "stream",
     "text": [
      "2023-01-24 14:44:23,032 - modnet - INFO - Loaded <modnet.preprocessing.MODData object at 0x7f9c7b613430> object, created with modnet version 0.2.0~develop\n"
     ]
    }
   ],
   "source": [
    "# Featurization of the moddata\n",
    "# It will automatically apply composition only featurizers\n",
    "# data.featurize() #this takes around 10 mins to run\n",
    "# data.save(\"out/gap_comp.mdt\")\n",
    "data = MODData.load(\"out/gap_comp.mdt\")"
   ]
  },
  {
   "cell_type": "markdown",
   "metadata": {},
   "source": [
    "## b) Train-test split\n",
    "In order to test the model on unseen data, we split the dataset in two parts: a training and testing set."
   ]
  },
  {
   "cell_type": "code",
   "execution_count": 7,
   "metadata": {},
   "outputs": [],
   "source": [
    "from sklearn.model_selection import train_test_split\n",
    "split = train_test_split(range(100), test_size=0.1, random_state=1234)\n",
    "train, test = data.split(split)"
   ]
  },
  {
   "cell_type": "markdown",
   "metadata": {},
   "source": [
    "Important features are selected. This takes around 1 minute."
   ]
  },
  {
   "cell_type": "code",
   "execution_count": 8,
   "metadata": {},
   "outputs": [
    {
     "name": "stdout",
     "output_type": "stream",
     "text": [
      "2023-01-24 14:44:23,207 - modnet - INFO - Multiprocessing on 1 workers.\n",
      "2023-01-24 14:44:23,212 - modnet - INFO - Computing \"self\" MI (i.e. information entropy) of features\n"
     ]
    },
    {
     "name": "stderr",
     "output_type": "stream",
     "text": [
      "100%|██████████| 270/270 [00:08<00:00, 30.56it/s]"
     ]
    },
    {
     "name": "stdout",
     "output_type": "stream",
     "text": [
      "2023-01-24 14:44:32,082 - modnet - INFO - Computing cross NMI between all features...\n"
     ]
    },
    {
     "name": "stderr",
     "output_type": "stream",
     "text": [
      "\n",
      "100%|██████████| 13695/13695 [00:43<00:00, 317.79it/s]\n"
     ]
    },
    {
     "name": "stdout",
     "output_type": "stream",
     "text": [
      "2023-01-24 14:45:15,852 - modnet - INFO - Starting target 1/1: gap_expt_eV ...\n",
      "2023-01-24 14:45:15,852 - modnet - INFO - Computing mutual information between features and target...\n",
      "2023-01-24 14:45:17,016 - modnet - INFO - Computing optimal features...\n",
      "2023-01-24 14:45:20,506 - modnet - INFO - Selected 50/166 features...\n",
      "2023-01-24 14:45:22,876 - modnet - INFO - Selected 100/166 features...\n",
      "2023-01-24 14:45:24,018 - modnet - INFO - Selected 150/166 features...\n",
      "2023-01-24 14:45:24,114 - modnet - INFO - Done with target 1/1: gap_expt_eV.\n",
      "2023-01-24 14:45:24,114 - modnet - INFO - Merging all features...\n",
      "2023-01-24 14:45:24,115 - modnet - INFO - Done.\n"
     ]
    }
   ],
   "source": [
    "train.feature_selection(n=-1)\n",
    "# if you want to use precomputed cross_nmi of the MP. This saves time :\n",
    "# data.feature_selection(n=-1, use_precomputed_cross_nmi)"
   ]
  },
  {
   "cell_type": "markdown",
   "metadata": {},
   "source": [
    "## c) Create MODNet model\n",
    "\n",
    "A `MODNetModel` is created with custom hyperparameters."
   ]
  },
  {
   "cell_type": "code",
   "execution_count": 9,
   "metadata": {},
   "outputs": [
    {
     "name": "stderr",
     "output_type": "stream",
     "text": [
      "2023-01-24 14:45:24.217663: I tensorflow/core/platform/cpu_feature_guard.cc:151] This TensorFlow binary is optimized with oneAPI Deep Neural Network Library (oneDNN) to use the following CPU instructions in performance-critical operations:  AVX2 FMA\n",
      "To enable them in other operations, rebuild TensorFlow with the appropriate compiler flags.\n"
     ]
    }
   ],
   "source": [
    "model = MODNetModel([[['gap_expt_eV']]],\n",
    "                    weights={'gap_expt_eV':1},\n",
    "                    num_neurons = [[256], [128], [16], [16]],\n",
    "                    n_feat = 150,\n",
    "                    act =  \"elu\"\n",
    "                   )"
   ]
  },
  {
   "cell_type": "markdown",
   "metadata": {},
   "source": [
    "## d) Model fitting\n",
    "The model is fitted with custom hyperparameters."
   ]
  },
  {
   "cell_type": "code",
   "execution_count": 10,
   "metadata": {},
   "outputs": [
    {
     "name": "stderr",
     "output_type": "stream",
     "text": [
      "/Users/ppdebreuck/anaconda3/envs/modnet-develop/lib/python3.8/site-packages/keras/optimizer_v2/adam.py:105: UserWarning: The `lr` argument is deprecated, use `learning_rate` instead.\n",
      "  super(Adam, self).__init__(name, **kwargs)\n"
     ]
    },
    {
     "name": "stdout",
     "output_type": "stream",
     "text": [
      "epoch 0: loss: 1.111, val_loss:1.162 val_mae:1.162\n",
      "epoch 1: loss: 0.995, val_loss:0.979 val_mae:0.979\n",
      "epoch 2: loss: 0.905, val_loss:0.843 val_mae:0.843\n",
      "epoch 3: loss: 0.821, val_loss:0.747 val_mae:0.747\n",
      "epoch 4: loss: 0.754, val_loss:0.652 val_mae:0.652\n",
      "epoch 5: loss: 0.694, val_loss:0.554 val_mae:0.554\n",
      "epoch 6: loss: 0.650, val_loss:0.455 val_mae:0.455\n",
      "epoch 7: loss: 0.619, val_loss:0.359 val_mae:0.359\n",
      "epoch 8: loss: 0.593, val_loss:0.312 val_mae:0.312\n",
      "epoch 9: loss: 0.582, val_loss:0.323 val_mae:0.323\n",
      "epoch 10: loss: 0.569, val_loss:0.325 val_mae:0.325\n",
      "epoch 11: loss: 0.558, val_loss:0.330 val_mae:0.330\n",
      "epoch 12: loss: 0.556, val_loss:0.336 val_mae:0.336\n",
      "epoch 13: loss: 0.556, val_loss:0.334 val_mae:0.334\n",
      "epoch 14: loss: 0.550, val_loss:0.328 val_mae:0.328\n",
      "epoch 15: loss: 0.543, val_loss:0.327 val_mae:0.327\n",
      "epoch 16: loss: 0.537, val_loss:0.324 val_mae:0.324\n",
      "epoch 17: loss: 0.530, val_loss:0.322 val_mae:0.322\n",
      "epoch 18: loss: 0.520, val_loss:0.321 val_mae:0.321\n",
      "epoch 19: loss: 0.512, val_loss:0.322 val_mae:0.322\n",
      "epoch 20: loss: 0.508, val_loss:0.325 val_mae:0.325\n",
      "epoch 21: loss: 0.504, val_loss:0.330 val_mae:0.330\n",
      "epoch 22: loss: 0.501, val_loss:0.331 val_mae:0.331\n",
      "epoch 23: loss: 0.498, val_loss:0.330 val_mae:0.330\n",
      "epoch 24: loss: 0.491, val_loss:0.352 val_mae:0.352\n",
      "epoch 25: loss: 0.485, val_loss:0.371 val_mae:0.371\n",
      "epoch 26: loss: 0.483, val_loss:0.361 val_mae:0.361\n",
      "epoch 27: loss: 0.476, val_loss:0.358 val_mae:0.358\n",
      "epoch 28: loss: 0.471, val_loss:0.367 val_mae:0.367\n",
      "epoch 29: loss: 0.469, val_loss:0.363 val_mae:0.363\n",
      "epoch 30: loss: 0.461, val_loss:0.339 val_mae:0.339\n",
      "epoch 31: loss: 0.455, val_loss:0.346 val_mae:0.346\n",
      "epoch 32: loss: 0.449, val_loss:0.358 val_mae:0.358\n",
      "epoch 33: loss: 0.446, val_loss:0.360 val_mae:0.360\n",
      "epoch 34: loss: 0.441, val_loss:0.360 val_mae:0.360\n",
      "epoch 35: loss: 0.436, val_loss:0.356 val_mae:0.356\n",
      "epoch 36: loss: 0.434, val_loss:0.362 val_mae:0.362\n",
      "epoch 37: loss: 0.428, val_loss:0.388 val_mae:0.388\n",
      "epoch 38: loss: 0.426, val_loss:0.391 val_mae:0.391\n",
      "epoch 39: loss: 0.421, val_loss:0.358 val_mae:0.358\n",
      "epoch 40: loss: 0.421, val_loss:0.358 val_mae:0.358\n",
      "epoch 41: loss: 0.421, val_loss:0.376 val_mae:0.376\n",
      "epoch 42: loss: 0.408, val_loss:0.407 val_mae:0.407\n",
      "epoch 43: loss: 0.412, val_loss:0.400 val_mae:0.400\n",
      "epoch 44: loss: 0.407, val_loss:0.377 val_mae:0.377\n",
      "epoch 45: loss: 0.402, val_loss:0.362 val_mae:0.362\n",
      "epoch 46: loss: 0.398, val_loss:0.360 val_mae:0.360\n",
      "epoch 47: loss: 0.393, val_loss:0.375 val_mae:0.375\n",
      "epoch 48: loss: 0.393, val_loss:0.377 val_mae:0.377\n",
      "epoch 49: loss: 0.386, val_loss:0.403 val_mae:0.403\n",
      "epoch 50: loss: 0.385, val_loss:0.422 val_mae:0.422\n",
      "epoch 51: loss: 0.386, val_loss:0.409 val_mae:0.409\n",
      "epoch 52: loss: 0.380, val_loss:0.371 val_mae:0.371\n",
      "epoch 53: loss: 0.378, val_loss:0.358 val_mae:0.358\n",
      "epoch 54: loss: 0.373, val_loss:0.388 val_mae:0.388\n",
      "epoch 55: loss: 0.379, val_loss:0.392 val_mae:0.392\n",
      "epoch 56: loss: 0.373, val_loss:0.372 val_mae:0.372\n",
      "epoch 57: loss: 0.360, val_loss:0.376 val_mae:0.376\n",
      "epoch 58: loss: 0.358, val_loss:0.398 val_mae:0.398\n",
      "epoch 59: loss: 0.356, val_loss:0.399 val_mae:0.399\n",
      "epoch 60: loss: 0.356, val_loss:0.376 val_mae:0.376\n",
      "epoch 61: loss: 0.347, val_loss:0.367 val_mae:0.367\n",
      "epoch 62: loss: 0.341, val_loss:0.355 val_mae:0.355\n",
      "epoch 63: loss: 0.341, val_loss:0.359 val_mae:0.359\n",
      "epoch 64: loss: 0.339, val_loss:0.382 val_mae:0.382\n",
      "epoch 65: loss: 0.335, val_loss:0.361 val_mae:0.361\n",
      "epoch 66: loss: 0.325, val_loss:0.366 val_mae:0.366\n",
      "epoch 67: loss: 0.325, val_loss:0.380 val_mae:0.380\n",
      "epoch 68: loss: 0.327, val_loss:0.380 val_mae:0.380\n",
      "epoch 69: loss: 0.321, val_loss:0.392 val_mae:0.392\n",
      "epoch 70: loss: 0.314, val_loss:0.366 val_mae:0.366\n",
      "epoch 71: loss: 0.307, val_loss:0.346 val_mae:0.346\n",
      "epoch 72: loss: 0.309, val_loss:0.374 val_mae:0.374\n",
      "epoch 73: loss: 0.312, val_loss:0.368 val_mae:0.368\n",
      "epoch 74: loss: 0.299, val_loss:0.332 val_mae:0.332\n",
      "epoch 75: loss: 0.318, val_loss:0.345 val_mae:0.345\n",
      "epoch 76: loss: 0.301, val_loss:0.373 val_mae:0.373\n",
      "epoch 77: loss: 0.293, val_loss:0.319 val_mae:0.319\n",
      "epoch 78: loss: 0.304, val_loss:0.311 val_mae:0.311\n",
      "epoch 79: loss: 0.294, val_loss:0.384 val_mae:0.384\n",
      "epoch 80: loss: 0.303, val_loss:0.370 val_mae:0.370\n",
      "epoch 81: loss: 0.299, val_loss:0.307 val_mae:0.307\n",
      "epoch 82: loss: 0.316, val_loss:0.312 val_mae:0.312\n",
      "epoch 83: loss: 0.281, val_loss:0.356 val_mae:0.356\n",
      "epoch 84: loss: 0.270, val_loss:0.325 val_mae:0.325\n",
      "epoch 85: loss: 0.273, val_loss:0.304 val_mae:0.304\n",
      "epoch 86: loss: 0.271, val_loss:0.360 val_mae:0.360\n",
      "epoch 87: loss: 0.263, val_loss:0.399 val_mae:0.399\n",
      "epoch 88: loss: 0.273, val_loss:0.342 val_mae:0.342\n",
      "epoch 89: loss: 0.244, val_loss:0.308 val_mae:0.308\n",
      "epoch 90: loss: 0.252, val_loss:0.328 val_mae:0.328\n",
      "epoch 91: loss: 0.246, val_loss:0.339 val_mae:0.339\n",
      "epoch 92: loss: 0.240, val_loss:0.310 val_mae:0.310\n",
      "epoch 93: loss: 0.239, val_loss:0.316 val_mae:0.316\n",
      "epoch 94: loss: 0.240, val_loss:0.351 val_mae:0.351\n",
      "epoch 95: loss: 0.242, val_loss:0.347 val_mae:0.347\n",
      "epoch 96: loss: 0.234, val_loss:0.331 val_mae:0.331\n",
      "epoch 97: loss: 0.228, val_loss:0.337 val_mae:0.337\n",
      "epoch 98: loss: 0.228, val_loss:0.330 val_mae:0.330\n",
      "epoch 99: loss: 0.219, val_loss:0.347 val_mae:0.347\n"
     ]
    }
   ],
   "source": [
    "model.fit(train,\n",
    "          val_fraction = 0.1,\n",
    "          lr = 0.0002,\n",
    "          batch_size = 64,\n",
    "          loss = 'mae',\n",
    "          epochs = 100,\n",
    "          verbose = 1,\n",
    "         )"
   ]
  },
  {
   "cell_type": "markdown",
   "metadata": {},
   "source": [
    "# 3. Predicting on test data"
   ]
  },
  {
   "cell_type": "code",
   "execution_count": 11,
   "metadata": {},
   "outputs": [
    {
     "data": {
      "text/html": [
       "<div>\n",
       "<style scoped>\n",
       "    .dataframe tbody tr th:only-of-type {\n",
       "        vertical-align: middle;\n",
       "    }\n",
       "\n",
       "    .dataframe tbody tr th {\n",
       "        vertical-align: top;\n",
       "    }\n",
       "\n",
       "    .dataframe thead th {\n",
       "        text-align: right;\n",
       "    }\n",
       "</style>\n",
       "<table border=\"1\" class=\"dataframe\">\n",
       "  <thead>\n",
       "    <tr style=\"text-align: right;\">\n",
       "      <th></th>\n",
       "      <th>gap_expt_eV</th>\n",
       "    </tr>\n",
       "  </thead>\n",
       "  <tbody>\n",
       "    <tr>\n",
       "      <th>id40</th>\n",
       "      <td>0.344833</td>\n",
       "    </tr>\n",
       "    <tr>\n",
       "      <th>id35</th>\n",
       "      <td>3.012862</td>\n",
       "    </tr>\n",
       "    <tr>\n",
       "      <th>id81</th>\n",
       "      <td>-0.301482</td>\n",
       "    </tr>\n",
       "    <tr>\n",
       "      <th>id61</th>\n",
       "      <td>2.006864</td>\n",
       "    </tr>\n",
       "    <tr>\n",
       "      <th>id98</th>\n",
       "      <td>1.696285</td>\n",
       "    </tr>\n",
       "  </tbody>\n",
       "</table>\n",
       "</div>"
      ],
      "text/plain": [
       "      gap_expt_eV\n",
       "id40     0.344833\n",
       "id35     3.012862\n",
       "id81    -0.301482\n",
       "id61     2.006864\n",
       "id98     1.696285"
      ]
     },
     "execution_count": 11,
     "metadata": {},
     "output_type": "execute_result"
    }
   ],
   "source": [
    "pred = model.predict(test)\n",
    "pred.head()"
   ]
  },
  {
   "cell_type": "code",
   "execution_count": 12,
   "metadata": {},
   "outputs": [
    {
     "name": "stdout",
     "output_type": "stream",
     "text": [
      "TEST MAE: 0.32 eV\n"
     ]
    }
   ],
   "source": [
    "mae_test = np.absolute(pred.values-test.df_targets.values).mean()\n",
    "print(\"TEST MAE: {:.2f} eV\".format(mae_test))"
   ]
  },
  {
   "cell_type": "markdown",
   "metadata": {},
   "source": [
    "This concludes the notebook."
   ]
  }
 ],
 "metadata": {
  "kernelspec": {
   "display_name": "Python 3.8.12 ('modnet-develop')",
   "language": "python",
   "name": "python3"
  },
  "language_info": {
   "codemirror_mode": {
    "name": "ipython",
    "version": 3
   },
   "file_extension": ".py",
   "mimetype": "text/x-python",
   "name": "python",
   "nbconvert_exporter": "python",
   "pygments_lexer": "ipython3",
   "version": "3.8.12"
  },
  "vscode": {
   "interpreter": {
    "hash": "65cdb1bf34a883aa160cb191d1776d32605e2c21ff3abc3b3101a9562d1e4c9d"
   }
  }
 },
 "nbformat": 4,
 "nbformat_minor": 4
}
