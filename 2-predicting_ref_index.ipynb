{
 "cells": [
  {
   "cell_type": "markdown",
   "metadata": {},
   "source": [
    "# Predicting the refractive index for the Materials Project\n",
    "\n",
    "This notebook will predict the refractive index for ~68,000 materials from the Materials Project (MP).\n",
    "This is done by using the pretrained model \"refractive_index\" available in the following directory: modnet/pretrained.\n",
    "\n",
    "## Load model\n",
    "First the MODNetModel is loaded:"
   ]
  },
  {
   "cell_type": "code",
   "execution_count": 1,
   "metadata": {},
   "outputs": [],
   "source": [
    "from modnet.models import MODNetModel\n",
    "from modnet.preprocessing import MODData"
   ]
  },
  {
   "cell_type": "code",
   "execution_count": 2,
   "metadata": {},
   "outputs": [
    {
     "name": "stdout",
     "output_type": "stream",
     "text": [
      "2023-01-23 15:58:40,386 - modnet - INFO - Loaded <modnet.models.vanilla.MODNetModel object at 0x7fa41afae370> object, created with modnet version 0.2.0~develop\n"
     ]
    },
    {
     "name": "stderr",
     "output_type": "stream",
     "text": [
      "2023-01-23 15:58:40.343766: I tensorflow/core/platform/cpu_feature_guard.cc:151] This TensorFlow binary is optimized with oneAPI Deep Neural Network Library (oneDNN) to use the following CPU instructions in performance-critical operations:  AVX2 FMA\n",
      "To enable them in other operations, rebuild TensorFlow with the appropriate compiler flags.\n"
     ]
    }
   ],
   "source": [
    "model = MODNetModel.load('out/MODNet_refractive_index')"
   ]
  },
  {
   "cell_type": "markdown",
   "metadata": {},
   "source": [
    "## Load MODData\n",
    "In order to predict it on new structures a MODData should be created. Here we want to predict on structures from the MP, and therefore load the precomputed MP MODData.\n",
    "This takes some time and memory."
   ]
  },
  {
   "cell_type": "code",
   "execution_count": 3,
   "metadata": {},
   "outputs": [
    {
     "name": "stdout",
     "output_type": "stream",
     "text": [
      "2023-01-23 15:59:05,673 - modnet - INFO - Loaded <modnet.preprocessing.MODData object at 0x7fa41945d970> object, created with modnet version <=0.1.7\n"
     ]
    }
   ],
   "source": [
    "MP_data = MODData.load(\"data/MP_2018.6_r.zip\")"
   ]
  },
  {
   "cell_type": "code",
   "execution_count": null,
   "metadata": {},
   "outputs": [
    {
     "name": "stdout",
     "output_type": "stream",
     "text": [
      "2023-01-23 15:43:33,627 - modnet - INFO - Data successfully saved as data/MP_2018.6_r!\n"
     ]
    }
   ],
   "source": [
    "#MP_data.df_featurized = MP_data.df_featurized.astype(\"float16\")\n",
    "#MP_data.df_targets = MP_data.df_targets.astype(\"float16\")\n",
    "#MP_data.save(\"data/MP_2018.6_r\")"
   ]
  },
  {
   "cell_type": "code",
   "execution_count": null,
   "metadata": {},
   "outputs": [],
   "source": [
    "#idx_keep = list(MP_data.df_featurized.sample(n=50).index) + [\"mp-19033\", \"mp-559175\", \"mp-6930\"]\n",
    "#MP_data.df_featurized = MP_data.df_featurized.loc[idx_keep]\n",
    "#MP_data.df_targets = MP_data.df_targets.loc[idx_keep]\n",
    "#MP_data.df_structure = MP_data.df_structure.loc[idx_keep]"
   ]
  },
  {
   "cell_type": "code",
   "execution_count": null,
   "metadata": {},
   "outputs": [],
   "source": [
    "#MP_data.df_featurized = MP_data.df_featurized.astype(\"float32\")\n",
    "#MP_data.df_targets = MP_data.df_targets.astype(\"float32\")"
   ]
  },
  {
   "cell_type": "markdown",
   "metadata": {},
   "source": [
    "## Predict on new structures\n",
    "By using the predict() method on the MP_data, a dataframe containing the predictions is obtained."
   ]
  },
  {
   "cell_type": "code",
   "execution_count": 4,
   "metadata": {},
   "outputs": [
    {
     "ename": "AttributeError",
     "evalue": "'NoneType' object has no attribute 'index'",
     "output_type": "error",
     "traceback": [
      "\u001b[0;31m---------------------------------------------------------------------------\u001b[0m",
      "\u001b[0;31mAttributeError\u001b[0m                            Traceback (most recent call last)",
      "\u001b[0;32m/var/folders/_x/s5xp9wzx4jdbg_hh6kzph0t40000gn/T/ipykernel_35229/262359204.py\u001b[0m in \u001b[0;36m<module>\u001b[0;34m\u001b[0m\n\u001b[0;32m----> 1\u001b[0;31m \u001b[0mdf\u001b[0m \u001b[0;34m=\u001b[0m \u001b[0mmodel\u001b[0m\u001b[0;34m.\u001b[0m\u001b[0mpredict\u001b[0m\u001b[0;34m(\u001b[0m\u001b[0mMP_data\u001b[0m\u001b[0;34m)\u001b[0m\u001b[0;34m\u001b[0m\u001b[0;34m\u001b[0m\u001b[0m\n\u001b[0m",
      "\u001b[0;32m~/Research/Software/modnet/modnet/models/vanilla.py\u001b[0m in \u001b[0;36mpredict\u001b[0;34m(self, test_data, return_prob)\u001b[0m\n\u001b[1;32m    649\u001b[0m                 \u001b[0mp_dic\u001b[0m\u001b[0;34m[\u001b[0m\u001b[0mname\u001b[0m\u001b[0;34m]\u001b[0m \u001b[0;34m=\u001b[0m \u001b[0mp\u001b[0m\u001b[0;34m[\u001b[0m\u001b[0mi\u001b[0m\u001b[0;34m,\u001b[0m \u001b[0;34m:\u001b[0m\u001b[0;34m,\u001b[0m \u001b[0;36m0\u001b[0m\u001b[0;34m]\u001b[0m\u001b[0;34m\u001b[0m\u001b[0;34m\u001b[0m\u001b[0m\n\u001b[1;32m    650\u001b[0m         \u001b[0mpredictions\u001b[0m \u001b[0;34m=\u001b[0m \u001b[0mpd\u001b[0m\u001b[0;34m.\u001b[0m\u001b[0mDataFrame\u001b[0m\u001b[0;34m(\u001b[0m\u001b[0mp_dic\u001b[0m\u001b[0;34m)\u001b[0m\u001b[0;34m\u001b[0m\u001b[0;34m\u001b[0m\u001b[0m\n\u001b[0;32m--> 651\u001b[0;31m         \u001b[0mpredictions\u001b[0m\u001b[0;34m.\u001b[0m\u001b[0mindex\u001b[0m \u001b[0;34m=\u001b[0m \u001b[0mtest_data\u001b[0m\u001b[0;34m.\u001b[0m\u001b[0mstructure_ids\u001b[0m\u001b[0;34m\u001b[0m\u001b[0;34m\u001b[0m\u001b[0m\n\u001b[0m\u001b[1;32m    652\u001b[0m \u001b[0;34m\u001b[0m\u001b[0m\n\u001b[1;32m    653\u001b[0m         \u001b[0;32mreturn\u001b[0m \u001b[0mpredictions\u001b[0m\u001b[0;34m\u001b[0m\u001b[0;34m\u001b[0m\u001b[0m\n",
      "\u001b[0;32m~/Research/Software/modnet/modnet/preprocessing.py\u001b[0m in \u001b[0;36mstructure_ids\u001b[0;34m(self)\u001b[0m\n\u001b[1;32m    940\u001b[0m     \u001b[0;32mdef\u001b[0m \u001b[0mstructure_ids\u001b[0m\u001b[0;34m(\u001b[0m\u001b[0mself\u001b[0m\u001b[0;34m)\u001b[0m \u001b[0;34m->\u001b[0m \u001b[0mList\u001b[0m\u001b[0;34m[\u001b[0m\u001b[0mstr\u001b[0m\u001b[0;34m]\u001b[0m\u001b[0;34m:\u001b[0m\u001b[0;34m\u001b[0m\u001b[0;34m\u001b[0m\u001b[0m\n\u001b[1;32m    941\u001b[0m         \u001b[0;34m\"\"\"Returns the list of prediction target field names.\"\"\"\u001b[0m\u001b[0;34m\u001b[0m\u001b[0;34m\u001b[0m\u001b[0m\n\u001b[0;32m--> 942\u001b[0;31m         \u001b[0;32mreturn\u001b[0m \u001b[0mlist\u001b[0m\u001b[0;34m(\u001b[0m\u001b[0mself\u001b[0m\u001b[0;34m.\u001b[0m\u001b[0mdf_structure\u001b[0m\u001b[0;34m.\u001b[0m\u001b[0mindex\u001b[0m\u001b[0;34m)\u001b[0m\u001b[0;34m\u001b[0m\u001b[0;34m\u001b[0m\u001b[0m\n\u001b[0m\u001b[1;32m    943\u001b[0m \u001b[0;34m\u001b[0m\u001b[0m\n\u001b[1;32m    944\u001b[0m     \u001b[0;32mdef\u001b[0m \u001b[0msave\u001b[0m\u001b[0;34m(\u001b[0m\u001b[0mself\u001b[0m\u001b[0;34m,\u001b[0m \u001b[0mfilename\u001b[0m\u001b[0;34m:\u001b[0m \u001b[0mstr\u001b[0m\u001b[0;34m)\u001b[0m\u001b[0;34m:\u001b[0m\u001b[0;34m\u001b[0m\u001b[0;34m\u001b[0m\u001b[0m\n",
      "\u001b[0;31mAttributeError\u001b[0m: 'NoneType' object has no attribute 'index'"
     ]
    }
   ],
   "source": [
    "df = model.predict(MP_data)"
   ]
  },
  {
   "cell_type": "code",
   "execution_count": null,
   "metadata": {},
   "outputs": [
    {
     "data": {
      "text/html": [
       "<div>\n",
       "<style scoped>\n",
       "    .dataframe tbody tr th:only-of-type {\n",
       "        vertical-align: middle;\n",
       "    }\n",
       "\n",
       "    .dataframe tbody tr th {\n",
       "        vertical-align: top;\n",
       "    }\n",
       "\n",
       "    .dataframe thead th {\n",
       "        text-align: right;\n",
       "    }\n",
       "</style>\n",
       "<table border=\"1\" class=\"dataframe\">\n",
       "  <thead>\n",
       "    <tr style=\"text-align: right;\">\n",
       "      <th></th>\n",
       "      <th>refractive_index</th>\n",
       "    </tr>\n",
       "  </thead>\n",
       "  <tbody>\n",
       "    <tr>\n",
       "      <th>mvc-8151</th>\n",
       "      <td>1.804972</td>\n",
       "    </tr>\n",
       "    <tr>\n",
       "      <th>mvc-8154</th>\n",
       "      <td>2.209564</td>\n",
       "    </tr>\n",
       "    <tr>\n",
       "      <th>mvc-1148</th>\n",
       "      <td>2.175929</td>\n",
       "    </tr>\n",
       "    <tr>\n",
       "      <th>mvc-14313</th>\n",
       "      <td>2.161505</td>\n",
       "    </tr>\n",
       "    <tr>\n",
       "      <th>mvc-9795</th>\n",
       "      <td>1.622048</td>\n",
       "    </tr>\n",
       "    <tr>\n",
       "      <th>...</th>\n",
       "      <td>...</td>\n",
       "    </tr>\n",
       "    <tr>\n",
       "      <th>mp-568848</th>\n",
       "      <td>1.801694</td>\n",
       "    </tr>\n",
       "    <tr>\n",
       "      <th>mp-864715</th>\n",
       "      <td>4.736323</td>\n",
       "    </tr>\n",
       "    <tr>\n",
       "      <th>mp-677105</th>\n",
       "      <td>3.370936</td>\n",
       "    </tr>\n",
       "    <tr>\n",
       "      <th>mp-17095</th>\n",
       "      <td>2.846345</td>\n",
       "    </tr>\n",
       "    <tr>\n",
       "      <th>mp-774245</th>\n",
       "      <td>2.284011</td>\n",
       "    </tr>\n",
       "  </tbody>\n",
       "</table>\n",
       "<p>68489 rows × 1 columns</p>\n",
       "</div>"
      ],
      "text/plain": [
       "           refractive_index\n",
       "mvc-8151           1.804972\n",
       "mvc-8154           2.209564\n",
       "mvc-1148           2.175929\n",
       "mvc-14313          2.161505\n",
       "mvc-9795           1.622048\n",
       "...                     ...\n",
       "mp-568848          1.801694\n",
       "mp-864715          4.736323\n",
       "mp-677105          3.370936\n",
       "mp-17095           2.846345\n",
       "mp-774245          2.284011\n",
       "\n",
       "[68489 rows x 1 columns]"
      ]
     },
     "execution_count": 6,
     "metadata": {},
     "output_type": "execute_result"
    }
   ],
   "source": [
    "df"
   ]
  },
  {
   "cell_type": "markdown",
   "metadata": {},
   "source": [
    "As a test, 3 materials with id mp-19033, mp-559175, and mp-6930, not included in the training set, were computed by DFT with corresponding 'true' refractive index: 2.59, 2.53 and 1.56.\n",
    "\n",
    "The following  approximation was found by our model, in a fraction of time:"
   ]
  },
  {
   "cell_type": "code",
   "execution_count": null,
   "metadata": {},
   "outputs": [
    {
     "data": {
      "text/html": [
       "<div>\n",
       "<style scoped>\n",
       "    .dataframe tbody tr th:only-of-type {\n",
       "        vertical-align: middle;\n",
       "    }\n",
       "\n",
       "    .dataframe tbody tr th {\n",
       "        vertical-align: top;\n",
       "    }\n",
       "\n",
       "    .dataframe thead th {\n",
       "        text-align: right;\n",
       "    }\n",
       "</style>\n",
       "<table border=\"1\" class=\"dataframe\">\n",
       "  <thead>\n",
       "    <tr style=\"text-align: right;\">\n",
       "      <th></th>\n",
       "      <th>refractive_index</th>\n",
       "    </tr>\n",
       "  </thead>\n",
       "  <tbody>\n",
       "    <tr>\n",
       "      <th>mp-19033</th>\n",
       "      <td>2.547379</td>\n",
       "    </tr>\n",
       "    <tr>\n",
       "      <th>mp-559175</th>\n",
       "      <td>2.454858</td>\n",
       "    </tr>\n",
       "    <tr>\n",
       "      <th>mp-6930</th>\n",
       "      <td>1.551571</td>\n",
       "    </tr>\n",
       "  </tbody>\n",
       "</table>\n",
       "</div>"
      ],
      "text/plain": [
       "           refractive_index\n",
       "mp-19033           2.547379\n",
       "mp-559175          2.454858\n",
       "mp-6930            1.551571"
      ]
     },
     "execution_count": 7,
     "metadata": {},
     "output_type": "execute_result"
    }
   ],
   "source": [
    "df.loc[['mp-19033', 'mp-559175', 'mp-6930']]"
   ]
  },
  {
   "cell_type": "code",
   "execution_count": null,
   "metadata": {},
   "outputs": [],
   "source": []
  }
 ],
 "metadata": {
  "kernelspec": {
   "display_name": "Python 3.8.12 ('modnet-develop')",
   "language": "python",
   "name": "python3"
  },
  "language_info": {
   "codemirror_mode": {
    "name": "ipython",
    "version": 3
   },
   "file_extension": ".py",
   "mimetype": "text/x-python",
   "name": "python",
   "nbconvert_exporter": "python",
   "pygments_lexer": "ipython3",
   "version": "3.8.12"
  },
  "vscode": {
   "interpreter": {
    "hash": "65cdb1bf34a883aa160cb191d1776d32605e2c21ff3abc3b3101a9562d1e4c9d"
   }
  }
 },
 "nbformat": 4,
 "nbformat_minor": 4
}
