{
 "cells": [
  {
   "cell_type": "markdown",
   "metadata": {},
   "source": [
    "# Predicting the refractive index for the Materials Project\n",
    "\n",
    "This notebook will predict the refractive index for ~126,000 materials from the Materials Project (MP).\n",
    "This is done by using the model trained in the previous notebook (1-training-ref_index.ipynb)\n",
    "\n",
    "## Load model\n",
    "First the MODNetModel is loaded:"
   ]
  },
  {
   "cell_type": "code",
   "execution_count": 7,
   "metadata": {},
   "outputs": [],
   "source": [
    "from modnet.models import MODNetModel\n",
    "from modnet.preprocessing import MODData"
   ]
  },
  {
   "cell_type": "code",
   "execution_count": 8,
   "metadata": {},
   "outputs": [
    {
     "name": "stdout",
     "output_type": "stream",
     "text": [
      "2023-01-24 14:51:13,981 - modnet - INFO - Loaded <modnet.models.vanilla.MODNetModel object at 0x7fd6995ecca0> object, created with modnet version 0.2.0~develop\n"
     ]
    }
   ],
   "source": [
    "model = MODNetModel.load('out/MODNet_refractive_index')"
   ]
  },
  {
   "cell_type": "markdown",
   "metadata": {},
   "source": [
    "## Load MODData\n",
    "In order to predict it on new structures, a MODData should be created. This MODData contains the compounds to screen. Here we want to predict on structures from the MP, and therefore load the precomputed MP MODData."
   ]
  },
  {
   "cell_type": "code",
   "execution_count": 9,
   "metadata": {},
   "outputs": [],
   "source": [
    "import pandas as pd\n",
    "from modnet.ext_data import load_ext_dataset\n",
    "db_path = load_ext_dataset(\"MP_210321\", \"feature_db\")\n",
    "df_MP = pd.read_pickle(db_path)\n",
    "MP_data = MODData(structures=df_MP.index,df_featurized = df_MP, structure_ids=df_MP.index)"
   ]
  },
  {
   "cell_type": "markdown",
   "metadata": {},
   "source": [
    "## Predict on new structures\n",
    "By using the predict() method on the MP_data, a dataframe containing the predictions is obtained."
   ]
  },
  {
   "cell_type": "code",
   "execution_count": 10,
   "metadata": {},
   "outputs": [],
   "source": [
    "df = model.predict(MP_data)"
   ]
  },
  {
   "cell_type": "markdown",
   "metadata": {},
   "source": [
    "In roughly 10 seconds, we have acces to thousands of predictions. It took around 0.1 millisecond per compound.\n",
    "Let us have a look at the predictions:"
   ]
  },
  {
   "cell_type": "code",
   "execution_count": 11,
   "metadata": {},
   "outputs": [
    {
     "data": {
      "text/html": [
       "<div>\n",
       "<style scoped>\n",
       "    .dataframe tbody tr th:only-of-type {\n",
       "        vertical-align: middle;\n",
       "    }\n",
       "\n",
       "    .dataframe tbody tr th {\n",
       "        vertical-align: top;\n",
       "    }\n",
       "\n",
       "    .dataframe thead th {\n",
       "        text-align: right;\n",
       "    }\n",
       "</style>\n",
       "<table border=\"1\" class=\"dataframe\">\n",
       "  <thead>\n",
       "    <tr style=\"text-align: right;\">\n",
       "      <th></th>\n",
       "      <th>refractive_index</th>\n",
       "    </tr>\n",
       "  </thead>\n",
       "  <tbody>\n",
       "    <tr>\n",
       "      <th>mp-1019735</th>\n",
       "      <td>1.702570</td>\n",
       "    </tr>\n",
       "    <tr>\n",
       "      <th>mp-1019967</th>\n",
       "      <td>2.121601</td>\n",
       "    </tr>\n",
       "    <tr>\n",
       "      <th>mp-1025415</th>\n",
       "      <td>3.405604</td>\n",
       "    </tr>\n",
       "    <tr>\n",
       "      <th>mp-1068035</th>\n",
       "      <td>3.845600</td>\n",
       "    </tr>\n",
       "    <tr>\n",
       "      <th>mp-10780</th>\n",
       "      <td>2.459319</td>\n",
       "    </tr>\n",
       "    <tr>\n",
       "      <th>...</th>\n",
       "      <td>...</td>\n",
       "    </tr>\n",
       "    <tr>\n",
       "      <th>mp-1258362</th>\n",
       "      <td>3.504196</td>\n",
       "    </tr>\n",
       "    <tr>\n",
       "      <th>mp-554674</th>\n",
       "      <td>2.034362</td>\n",
       "    </tr>\n",
       "    <tr>\n",
       "      <th>mp-555394</th>\n",
       "      <td>1.281805</td>\n",
       "    </tr>\n",
       "    <tr>\n",
       "      <th>mp-555777</th>\n",
       "      <td>2.026107</td>\n",
       "    </tr>\n",
       "    <tr>\n",
       "      <th>mp-694932</th>\n",
       "      <td>4.211441</td>\n",
       "    </tr>\n",
       "  </tbody>\n",
       "</table>\n",
       "<p>126263 rows × 1 columns</p>\n",
       "</div>"
      ],
      "text/plain": [
       "            refractive_index\n",
       "mp-1019735          1.702570\n",
       "mp-1019967          2.121601\n",
       "mp-1025415          3.405604\n",
       "mp-1068035          3.845600\n",
       "mp-10780            2.459319\n",
       "...                      ...\n",
       "mp-1258362          3.504196\n",
       "mp-554674           2.034362\n",
       "mp-555394           1.281805\n",
       "mp-555777           2.026107\n",
       "mp-694932           4.211441\n",
       "\n",
       "[126263 rows x 1 columns]"
      ]
     },
     "execution_count": 11,
     "metadata": {},
     "output_type": "execute_result"
    }
   ],
   "source": [
    "df"
   ]
  },
  {
   "cell_type": "markdown",
   "metadata": {},
   "source": [
    "As an example, 2 materials with id mp-19033, and mp-6930, not included in the training set, were computed by DFT with corresponding 'true' refractive index: 2.59, and 1.56.\n",
    "\n",
    "The following  approximation is found by our model, in a fraction of time:"
   ]
  },
  {
   "cell_type": "code",
   "execution_count": 12,
   "metadata": {},
   "outputs": [
    {
     "data": {
      "text/html": [
       "<div>\n",
       "<style scoped>\n",
       "    .dataframe tbody tr th:only-of-type {\n",
       "        vertical-align: middle;\n",
       "    }\n",
       "\n",
       "    .dataframe tbody tr th {\n",
       "        vertical-align: top;\n",
       "    }\n",
       "\n",
       "    .dataframe thead th {\n",
       "        text-align: right;\n",
       "    }\n",
       "</style>\n",
       "<table border=\"1\" class=\"dataframe\">\n",
       "  <thead>\n",
       "    <tr style=\"text-align: right;\">\n",
       "      <th></th>\n",
       "      <th>refractive_index</th>\n",
       "    </tr>\n",
       "  </thead>\n",
       "  <tbody>\n",
       "    <tr>\n",
       "      <th>mp-19033</th>\n",
       "      <td>2.415804</td>\n",
       "    </tr>\n",
       "    <tr>\n",
       "      <th>mp-6930</th>\n",
       "      <td>1.526365</td>\n",
       "    </tr>\n",
       "  </tbody>\n",
       "</table>\n",
       "</div>"
      ],
      "text/plain": [
       "          refractive_index\n",
       "mp-19033          2.415804\n",
       "mp-6930           1.526365"
      ]
     },
     "execution_count": 12,
     "metadata": {},
     "output_type": "execute_result"
    }
   ],
   "source": [
    "df.loc[['mp-19033', 'mp-6930']]"
   ]
  },
  {
   "cell_type": "markdown",
   "metadata": {},
   "source": [
    "This concludes the notebook."
   ]
  }
 ],
 "metadata": {
  "kernelspec": {
   "display_name": "Python 3.8.12 ('modnet-develop')",
   "language": "python",
   "name": "python3"
  },
  "language_info": {
   "codemirror_mode": {
    "name": "ipython",
    "version": 3
   },
   "file_extension": ".py",
   "mimetype": "text/x-python",
   "name": "python",
   "nbconvert_exporter": "python",
   "pygments_lexer": "ipython3",
   "version": "3.8.12"
  },
  "vscode": {
   "interpreter": {
    "hash": "65cdb1bf34a883aa160cb191d1776d32605e2c21ff3abc3b3101a9562d1e4c9d"
   }
  }
 },
 "nbformat": 4,
 "nbformat_minor": 4
}
